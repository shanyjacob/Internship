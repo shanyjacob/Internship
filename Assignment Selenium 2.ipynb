{
 "cells": [
  {
   "cell_type": "code",
   "execution_count": 8,
   "id": "580ef8cd",
   "metadata": {},
   "outputs": [],
   "source": [
    "#1\n",
    "\n",
    "import selenium\n",
    "import pandas as pd\n",
    "from selenium import webdriver\n",
    "import warnings\n",
    "warnings.filterwarnings('ignore')\n",
    "from selenium.webdriver.common.by import By\n",
    "from selenium.webdriver.common.keys import Keys\n",
    "\n",
    "\n"
   ]
  },
  {
   "cell_type": "code",
   "execution_count": 9,
   "id": "76a38d70",
   "metadata": {},
   "outputs": [
    {
     "name": "stderr",
     "output_type": "stream",
     "text": [
      "The chromedriver version (122.0.6261.111) detected in PATH at C:\\Users\\Lenovo\\Desktop\\chromedriver.exe might not be compatible with the detected chrome version (123.0.6312.59); currently, chromedriver 123.0.6312.86 is recommended for chrome 123.*, so it is advised to delete the driver in PATH and retry\n"
     ]
    }
   ],
   "source": [
    "driver = webdriver.Chrome()"
   ]
  },
  {
   "cell_type": "code",
   "execution_count": null,
   "id": "4d3dd0fc",
   "metadata": {},
   "outputs": [],
   "source": []
  },
  {
   "cell_type": "code",
   "execution_count": 65,
   "id": "62a68dcf",
   "metadata": {},
   "outputs": [],
   "source": [
    "driver.get(\"https://www.amazon.in/\")"
   ]
  },
  {
   "cell_type": "code",
   "execution_count": 66,
   "id": "10c66ea6",
   "metadata": {},
   "outputs": [
    {
     "name": "stdout",
     "output_type": "stream",
     "text": [
      "Enter your itemguitar\n"
     ]
    }
   ],
   "source": [
    "val=input(\"Enter your item\")"
   ]
  },
  {
   "cell_type": "code",
   "execution_count": 67,
   "id": "552316e9",
   "metadata": {},
   "outputs": [],
   "source": [
    "products=driver.find_element(By.ID,\"twotabsearchtextbox\")\n",
    "products.send_keys(val)\n",
    "\n",
    "\n",
    "products.send_keys(Keys.ENTER)"
   ]
  },
  {
   "cell_type": "code",
   "execution_count": 26,
   "id": "d5b89113",
   "metadata": {},
   "outputs": [],
   "source": [
    "#2\n",
    "import selenium\n",
    "import pandas as pd\n",
    "from selenium import webdriver\n",
    "import warnings\n",
    "warnings.filterwarnings('ignore')\n",
    "from selenium.webdriver.common.by import By\n",
    "from selenium.webdriver.common.keys import Keys\n",
    "import time"
   ]
  },
  {
   "cell_type": "code",
   "execution_count": 27,
   "id": "e7b9e00e",
   "metadata": {},
   "outputs": [
    {
     "name": "stderr",
     "output_type": "stream",
     "text": [
      "The chromedriver version (122.0.6261.111) detected in PATH at C:\\Users\\Lenovo\\Desktop\\chromedriver.exe might not be compatible with the detected chrome version (123.0.6312.86); currently, chromedriver 123.0.6312.86 is recommended for chrome 123.*, so it is advised to delete the driver in PATH and retry\n"
     ]
    }
   ],
   "source": [
    "driver = webdriver.Chrome()"
   ]
  },
  {
   "cell_type": "code",
   "execution_count": 28,
   "id": "1a7ef3ac",
   "metadata": {},
   "outputs": [],
   "source": [
    "driver.get(\"https://www.amazon.in/\")"
   ]
  },
  {
   "cell_type": "code",
   "execution_count": 29,
   "id": "4871fe69",
   "metadata": {},
   "outputs": [
    {
     "name": "stdout",
     "output_type": "stream",
     "text": [
      "Enter your itemguitar\n"
     ]
    }
   ],
   "source": [
    "val=input(\"Enter your item\")"
   ]
  },
  {
   "cell_type": "code",
   "execution_count": 30,
   "id": "a5222fbd",
   "metadata": {},
   "outputs": [],
   "source": [
    "products=driver.find_element(By.ID,\"twotabsearchtextbox\")\n",
    "products.send_keys(val)\n",
    "products.send_keys(Keys.ENTER)"
   ]
  },
  {
   "cell_type": "code",
   "execution_count": 68,
   "id": "7c2a9077",
   "metadata": {},
   "outputs": [],
   "source": [
    "speaker_tags=driver.find_element(By.XPATH,'//div[@class=\"nav-search-field \"]//input')\n",
    "#speaker_tags.send_keys('guitar')\n",
    "search=driver.find_element(By.XPATH,'//div[@class=\"nav-search-submit nav-sprite\"]//span')\n",
    "search.click()\n",
    "time.sleep(3)\n",
    "\n",
    "                           \n",
    "                           "
   ]
  },
  {
   "cell_type": "code",
   "execution_count": 69,
   "id": "43b337f5",
   "metadata": {},
   "outputs": [],
   "source": [
    "product_urls=[]\n",
    "start=0\n",
    "end=3\n",
    "for page in range(start,end):\n",
    "    url=driver.find_elements(By.XPATH,'//a[@class=\"a-link-normal s-no-outline\"]')\n",
    "    for i in url:\n",
    "        product_urls.append(i.get_attribute(\"href\"))\n",
    "    nxt_button=driver.find_element(By.XPATH,'//a[@class=\"s-pagination-item s-pagination-next s-pagination-button s-pagination-separator\"]')\n",
    "    nxt_button.click()\n",
    "    time.sleep(2)"
   ]
  },
  {
   "cell_type": "code",
   "execution_count": 35,
   "id": "c61716ff",
   "metadata": {},
   "outputs": [
    {
     "data": {
      "text/plain": [
       "196"
      ]
     },
     "execution_count": 35,
     "metadata": {},
     "output_type": "execute_result"
    }
   ],
   "source": [
    "len(product_urls)"
   ]
  },
  {
   "cell_type": "code",
   "execution_count": 70,
   "id": "7fbd368e",
   "metadata": {},
   "outputs": [],
   "source": [
    "brands =[]\n",
    "prices = []\n",
    "names = []\n",
    "Deliverys = []\n",
    "returnPplicies = []\n"
   ]
  },
  {
   "cell_type": "code",
   "execution_count": 71,
   "id": "947f50b9",
   "metadata": {},
   "outputs": [
    {
     "name": "stdout",
     "output_type": "stream",
     "text": [
      "                                         Product Name         Brand Price  \\\n",
      "0   Kadence rosewood Guitar Frontier Series, Elect...       Kadence     -   \n",
      "1   Kadence Frontier guitar with Online Guitar lea...       Kadence     -   \n",
      "2   Kadence Slowhand Premium Jumbo Semi Acoustic G...       Kadence     -   \n",
      "3   MOCKING BIRD 40 inch Acoustic Guitar for Begin...  MOCKING BIRD     -   \n",
      "4   Juârez JRZ38C/WH 6 Strings Acoustic Guitar 38 ...        JUAREZ     -   \n",
      "..                                                ...           ...   ...   \n",
      "67  Kadence rosewood Guitar Frontier Series, Elect...       Kadence     -   \n",
      "68  Kadence Frontier guitar with Online Guitar lea...       Kadence     -   \n",
      "69  Juârez JRZ38C/WH 6 Strings Acoustic Guitar 38 ...        JUAREZ     -   \n",
      "70  Kadence Slowhand Premium Jumbo Semi Acoustic G...       Kadence     -   \n",
      "71  BlueberryB-38, Acoustic Guitar Kit with Bag, S...     blueberry     -   \n",
      "\n",
      "              Delivery   Return / Exchange  \n",
      "0     Sunday, 31 March  7 days Replacement  \n",
      "1     Sunday, 31 March  7 days Replacement  \n",
      "2     Sunday, 31 March  7 days Replacement  \n",
      "3   Wednesday, 3 April  7 days Replacement  \n",
      "4     Tuesday, 2 April  7 days Replacement  \n",
      "..                 ...                 ...  \n",
      "67    Sunday, 31 March  7 days Replacement  \n",
      "68    Sunday, 31 March  7 days Replacement  \n",
      "69   Thursday, 4 April  7 days Replacement  \n",
      "70    Sunday, 31 March  7 days Replacement  \n",
      "71  Wednesday, 3 April  7 days Replacement  \n",
      "\n",
      "[72 rows x 5 columns]\n"
     ]
    }
   ],
   "source": [
    "for url in product_urls:\n",
    "    driver.get(url)\n",
    "    time.sleep(5)\n",
    "    \n",
    "    try:\n",
    "        brand=driver.find_element(By.XPATH,'//*[@id=\"productOverview_feature_div\"]/div/table/tbody/tr[1]/td[2]/span')\n",
    "        brands.append(brand.text)\n",
    "    except:\n",
    "        brands.append('-')\n",
    "    \n",
    "    try:\n",
    "        price=driver.find_element(By.XPATH,'//span[@class=\"a-price-whole\"]')\n",
    "        prices.append(price[0].text)\n",
    "    except:\n",
    "        prices.append('-')\n",
    "    try:\n",
    "        product_name=driver.find_element(By.XPATH,'//span[@class=\"a-size-large product-title-word-break\"]')\n",
    "        names.append(product_name.text)\n",
    "    except:\n",
    "        names.append('-')\n",
    "        \n",
    "    try:\n",
    "        deli=driver.find_element(By.XPATH,'//*[@id=\"mir-layout-DELIVERY_BLOCK-slot-PRIMARY_DELIVERY_MESSAGE_LARGE\"]/span/span')\n",
    "        Deliverys.append(deli.text)\n",
    "    except:\n",
    "        Deliverys.append('-')\n",
    "\n",
    "        \n",
    "    try:\n",
    "        policy=driver.find_element(By.XPATH,'//*[@id=\"RETURNS_POLICY\"]/span/div[2]/span')\n",
    "        returnPplicies.append(policy.text)\n",
    "    except:\n",
    "        returnPplicies.append('-')\n",
    "        \n",
    "import pandas as pd\n",
    "df=pd.DataFrame({'Product Name':names,'Brand':brands,'Price':prices,'Delivery':Deliverys,\"Return / Exchange\":returnPplicies})\n",
    "print(df)\n",
    "\n",
    "         \n",
    "   "
   ]
  },
  {
   "cell_type": "code",
   "execution_count": 141,
   "id": "03ce0270",
   "metadata": {},
   "outputs": [
    {
     "name": "stderr",
     "output_type": "stream",
     "text": [
      "The chromedriver version (122.0.6261.111) detected in PATH at C:\\Users\\Lenovo\\Desktop\\chromedriver.exe might not be compatible with the detected chrome version (123.0.6312.86); currently, chromedriver 123.0.6312.86 is recommended for chrome 123.*, so it is advised to delete the driver in PATH and retry\n"
     ]
    },
    {
     "name": "stdout",
     "output_type": "stream",
     "text": [
      "Downloading 0 of 10 images\n",
      "Downloading 1 of 10 images\n",
      "Downloading 2 of 10 images\n",
      "Downloading 3 of 10 images\n",
      "Downloading 4 of 10 images\n",
      "Downloading 5 of 10 images\n",
      "Downloading 6 of 10 images\n",
      "Downloading 7 of 10 images\n",
      "Downloading 8 of 10 images\n",
      "Downloading 9 of 10 images\n",
      "Downloading 10 of 10 images\n",
      "Downloading 0 of 10 images\n",
      "Downloading 1 of 10 images\n",
      "Downloading 2 of 10 images\n",
      "Downloading 3 of 10 images\n",
      "Downloading 4 of 10 images\n",
      "Downloading 5 of 10 images\n",
      "Downloading 6 of 10 images\n",
      "Downloading 7 of 10 images\n",
      "Downloading 8 of 10 images\n",
      "Downloading 9 of 10 images\n",
      "Downloading 10 of 10 images\n",
      "Downloading 0 of 10 images\n",
      "Downloading 1 of 10 images\n",
      "Downloading 2 of 10 images\n",
      "Downloading 3 of 10 images\n",
      "Downloading 4 of 10 images\n",
      "Downloading 5 of 10 images\n",
      "Downloading 6 of 10 images\n",
      "Downloading 7 of 10 images\n",
      "Downloading 8 of 10 images\n",
      "Downloading 9 of 10 images\n",
      "Downloading 10 of 10 images\n",
      "Downloading 0 of 10 images\n",
      "Downloading 1 of 10 images\n",
      "Downloading 2 of 10 images\n",
      "Downloading 3 of 10 images\n",
      "Downloading 4 of 10 images\n",
      "Downloading 5 of 10 images\n",
      "Downloading 6 of 10 images\n",
      "Downloading 7 of 10 images\n",
      "Downloading 8 of 10 images\n",
      "Downloading 9 of 10 images\n",
      "Downloading 10 of 10 images\n"
     ]
    }
   ],
   "source": [
    "#3\n",
    "import selenium\n",
    "import pandas as pd\n",
    "from selenium import webdriver\n",
    "import warnings\n",
    "warnings.filterwarnings('ignore')\n",
    "from selenium.webdriver.common.by import By\n",
    "from selenium.webdriver.common.keys import Keys\n",
    "import time\n",
    "import requests\n",
    "\n",
    "driver = webdriver.Chrome()\n",
    "time.sleep(1)\n",
    "driver.get(\"https://images.google.com/\")\n",
    "time.sleep(1)\n",
    "search=driver.find_element(By.XPATH,'//textarea[@class=\"gLFyf\"]')\n",
    "search.send_keys(\"fruits\")\n",
    "search.send_keys(Keys.ENTER)\n",
    "\n",
    "time.sleep(1)\n",
    "\n",
    "\n",
    "for _ in range(20):\n",
    "    driver.execute_script(\"window.scrollBy(0,500)\")\n",
    "    \n",
    "time.sleep(3)\n",
    "\n",
    "img_urls=[]\n",
    "images = driver.find_elements(By.XPATH,'//*[@id=\"islrg\"]/div[1]/div[51]/div/a[1]/div[1]/img')\n",
    "\n",
    "for image in images:\n",
    "    source= image.get_attribute('src')\n",
    "    if source is not None:\n",
    "        if(source[0:4] == 'http'):\n",
    "            img_urls.append(source)\n",
    "\n",
    "            \n",
    "for i in range(len(img_urls)):\n",
    "    if i>10:\n",
    "        break\n",
    "    print(\"Downloading {0} of {1} images\" .format(i, 10))\n",
    "    response=requests.get(img_urls[i])\n",
    "    file=open(r\"C:\\Users\\Lenovo\\Desktop\\Fruits\\fruit\"+str(i)+\".jpg\", \"wb\") \n",
    "    file.write(response.content)\n",
    "    \n",
    "#------ cars--------------------------------\n",
    "\n",
    "driver.get(\"https://images.google.com/\")\n",
    "time.sleep(1)\n",
    "search=driver.find_element(By.XPATH,'//textarea[@class=\"gLFyf\"]')\n",
    "search.send_keys(\"cars\")\n",
    "search.send_keys(Keys.ENTER)\n",
    "\n",
    "time.sleep(1)\n",
    "\n",
    "\n",
    "for _ in range(20):\n",
    "    driver.execute_script(\"window.scrollBy(0,500)\")\n",
    "    \n",
    "time.sleep(3)\n",
    "\n",
    "img_urls=[]\n",
    "images = driver.find_elements(By.XPATH,'//*[@id=\"islrg\"]/div[1]/div[51]/div/a[1]/div[1]/img')\n",
    "\n",
    "for image in images:\n",
    "    source= image.get_attribute('src')\n",
    "    if source is not None:\n",
    "        if(source[0:4] == 'http'):\n",
    "            img_urls.append(source)\n",
    "\n",
    "            \n",
    "for i in range(len(img_urls)):\n",
    "    if i>10:\n",
    "        break\n",
    "    print(\"Downloading {0} of {1} images\" .format(i, 10))\n",
    "    response=requests.get(img_urls[i])\n",
    "    file=open(r\"C:\\Users\\Lenovo\\Desktop\\Fruits\\car\"+str(i)+\".jpg\", \"wb\") \n",
    "    file.write(response.content)\n",
    "    \n",
    "    \n",
    "#-------- Machine Learning---------------\n",
    "driver.get(\"https://images.google.com/\")\n",
    "time.sleep(1)\n",
    "search=driver.find_element(By.XPATH,'//textarea[@class=\"gLFyf\"]')\n",
    "search.send_keys(\"Machine Learning\")\n",
    "search.send_keys(Keys.ENTER)\n",
    "\n",
    "time.sleep(1)\n",
    "\n",
    "\n",
    "for _ in range(20):\n",
    "    driver.execute_script(\"window.scrollBy(0,500)\")\n",
    "    \n",
    "time.sleep(3)\n",
    "\n",
    "img_urls=[]\n",
    "images = driver.find_elements(By.XPATH,'//*[@id=\"islrg\"]/div[1]/div[51]/div/a[1]/div[1]/img')\n",
    "\n",
    "for image in images:\n",
    "    source= image.get_attribute('src')\n",
    "    if source is not None:\n",
    "        if(source[0:4] == 'http'):\n",
    "            img_urls.append(source)\n",
    "\n",
    "            \n",
    "for i in range(len(img_urls)):\n",
    "    if i>10:\n",
    "        break\n",
    "    print(\"Downloading {0} of {1} images\" .format(i, 10))\n",
    "    response=requests.get(img_urls[i])\n",
    "    file=open(r\"C:\\Users\\Lenovo\\Desktop\\Fruits\\ml\"+str(i)+\".jpg\", \"wb\") \n",
    "    file.write(response.content)\n",
    "    \n",
    " #------ Guitar------------\n",
    "driver.get(\"https://images.google.com/\")\n",
    "time.sleep(1)\n",
    "search=driver.find_element(By.XPATH,'//textarea[@class=\"gLFyf\"]')\n",
    "search.send_keys(\"Guitar\")\n",
    "search.send_keys(Keys.ENTER)\n",
    "\n",
    "time.sleep(1)\n",
    "\n",
    "\n",
    "for _ in range(20):\n",
    "    driver.execute_script(\"window.scrollBy(0,500)\")\n",
    "    \n",
    "time.sleep(3)\n",
    "\n",
    "img_urls=[]\n",
    "images = driver.find_elements(By.XPATH,'//*[@id=\"islrg\"]/div[1]/div[51]/div/a[1]/div[1]/img')\n",
    "\n",
    "for image in images:\n",
    "    source= image.get_attribute('src')\n",
    "    if source is not None:\n",
    "        if(source[0:4] == 'http'):\n",
    "            img_urls.append(source)\n",
    "\n",
    "            \n",
    "for i in range(len(img_urls)):\n",
    "    if i>10:\n",
    "        break\n",
    "    print(\"Downloading {0} of {1} images\" .format(i, 10))\n",
    "    response=requests.get(img_urls[i])\n",
    "    file=open(r\"C:\\Users\\Lenovo\\Desktop\\Fruits\\guitar\"+str(i)+\".jpg\", \"wb\") \n",
    "    file.write(response.content)"
   ]
  },
  {
   "cell_type": "code",
   "execution_count": 153,
   "id": "59015a9f",
   "metadata": {},
   "outputs": [
    {
     "name": "stderr",
     "output_type": "stream",
     "text": [
      "The chromedriver version (122.0.6261.111) detected in PATH at C:\\Users\\Lenovo\\Desktop\\chromedriver.exe might not be compatible with the detected chrome version (123.0.6312.86); currently, chromedriver 123.0.6312.86 is recommended for chrome 123.*, so it is advised to delete the driver in PATH and retry\n"
     ]
    },
    {
     "ename": "NameError",
     "evalue": "name 'ROM_S' is not defined",
     "output_type": "error",
     "traceback": [
      "\u001b[1;31m---------------------------------------------------------------------------\u001b[0m",
      "\u001b[1;31mNoSuchElementException\u001b[0m                    Traceback (most recent call last)",
      "Cell \u001b[1;32mIn[153], line 68\u001b[0m\n\u001b[0;32m     67\u001b[0m \u001b[38;5;28;01mtry\u001b[39;00m:\n\u001b[1;32m---> 68\u001b[0m     ROM\u001b[38;5;241m=\u001b[39mdriver\u001b[38;5;241m.\u001b[39mfind_element(By\u001b[38;5;241m.\u001b[39mXPATH,\u001b[38;5;124m'\u001b[39m\u001b[38;5;124m/html/body/div[1]/div/div[3]/div[1]/div[2]/div[7]/div/div/div[4]/div/div[2]/div[1]/div[4]/table/tbody/tr[1]/td[2]/ul/li\u001b[39m\u001b[38;5;124m'\u001b[39m)\n\u001b[0;32m     69\u001b[0m     ROM_S\u001b[38;5;241m.\u001b[39mappend(ROM\u001b[38;5;241m.\u001b[39mtext)\n",
      "File \u001b[1;32m~\\anaconda3\\Lib\\site-packages\\selenium\\webdriver\\remote\\webdriver.py:741\u001b[0m, in \u001b[0;36mWebDriver.find_element\u001b[1;34m(self, by, value)\u001b[0m\n\u001b[0;32m    739\u001b[0m     value \u001b[38;5;241m=\u001b[39m \u001b[38;5;124mf\u001b[39m\u001b[38;5;124m'\u001b[39m\u001b[38;5;124m[name=\u001b[39m\u001b[38;5;124m\"\u001b[39m\u001b[38;5;132;01m{\u001b[39;00mvalue\u001b[38;5;132;01m}\u001b[39;00m\u001b[38;5;124m\"\u001b[39m\u001b[38;5;124m]\u001b[39m\u001b[38;5;124m'\u001b[39m\n\u001b[1;32m--> 741\u001b[0m \u001b[38;5;28;01mreturn\u001b[39;00m \u001b[38;5;28mself\u001b[39m\u001b[38;5;241m.\u001b[39mexecute(Command\u001b[38;5;241m.\u001b[39mFIND_ELEMENT, {\u001b[38;5;124m\"\u001b[39m\u001b[38;5;124musing\u001b[39m\u001b[38;5;124m\"\u001b[39m: by, \u001b[38;5;124m\"\u001b[39m\u001b[38;5;124mvalue\u001b[39m\u001b[38;5;124m\"\u001b[39m: value})[\u001b[38;5;124m\"\u001b[39m\u001b[38;5;124mvalue\u001b[39m\u001b[38;5;124m\"\u001b[39m]\n",
      "File \u001b[1;32m~\\anaconda3\\Lib\\site-packages\\selenium\\webdriver\\remote\\webdriver.py:347\u001b[0m, in \u001b[0;36mWebDriver.execute\u001b[1;34m(self, driver_command, params)\u001b[0m\n\u001b[0;32m    346\u001b[0m \u001b[38;5;28;01mif\u001b[39;00m response:\n\u001b[1;32m--> 347\u001b[0m     \u001b[38;5;28mself\u001b[39m\u001b[38;5;241m.\u001b[39merror_handler\u001b[38;5;241m.\u001b[39mcheck_response(response)\n\u001b[0;32m    348\u001b[0m     response[\u001b[38;5;124m\"\u001b[39m\u001b[38;5;124mvalue\u001b[39m\u001b[38;5;124m\"\u001b[39m] \u001b[38;5;241m=\u001b[39m \u001b[38;5;28mself\u001b[39m\u001b[38;5;241m.\u001b[39m_unwrap_value(response\u001b[38;5;241m.\u001b[39mget(\u001b[38;5;124m\"\u001b[39m\u001b[38;5;124mvalue\u001b[39m\u001b[38;5;124m\"\u001b[39m, \u001b[38;5;28;01mNone\u001b[39;00m))\n",
      "File \u001b[1;32m~\\anaconda3\\Lib\\site-packages\\selenium\\webdriver\\remote\\errorhandler.py:229\u001b[0m, in \u001b[0;36mErrorHandler.check_response\u001b[1;34m(self, response)\u001b[0m\n\u001b[0;32m    228\u001b[0m     \u001b[38;5;28;01mraise\u001b[39;00m exception_class(message, screen, stacktrace, alert_text)  \u001b[38;5;66;03m# type: ignore[call-arg]  # mypy is not smart enough here\u001b[39;00m\n\u001b[1;32m--> 229\u001b[0m \u001b[38;5;28;01mraise\u001b[39;00m exception_class(message, screen, stacktrace)\n",
      "\u001b[1;31mNoSuchElementException\u001b[0m: Message: no such element: Unable to locate element: {\"method\":\"xpath\",\"selector\":\"/html/body/div[1]/div/div[3]/div[1]/div[2]/div[7]/div/div/div[4]/div/div[2]/div[1]/div[4]/table/tbody/tr[1]/td[2]/ul/li\"}\n  (Session info: chrome=123.0.6312.86); For documentation on this error, please visit: https://www.selenium.dev/documentation/webdriver/troubleshooting/errors#no-such-element-exception\nStacktrace:\n\tGetHandleVerifier [0x00B08D33+51395]\n\t(No symbol) [0x00A75F91]\n\t(No symbol) [0x0092E13A]\n\t(No symbol) [0x009662BB]\n\t(No symbol) [0x009663EB]\n\t(No symbol) [0x0099C162]\n\t(No symbol) [0x00983ED4]\n\t(No symbol) [0x0099A570]\n\t(No symbol) [0x00983C26]\n\t(No symbol) [0x0095C629]\n\t(No symbol) [0x0095D40D]\n\tGetHandleVerifier [0x00E864F3+3711107]\n\tGetHandleVerifier [0x00EC58DA+3970154]\n\tGetHandleVerifier [0x00EC0BC8+3950424]\n\tGetHandleVerifier [0x00BB9D39+776393]\n\t(No symbol) [0x00A81764]\n\t(No symbol) [0x00A7C648]\n\t(No symbol) [0x00A7C7F9]\n\t(No symbol) [0x00A6DE20]\n\tBaseThreadInitThunk [0x76FF7BA9+25]\n\tRtlInitializeExceptionChain [0x77BFBDAB+107]\n\tRtlClearBits [0x77BFBD2F+191]\n",
      "\nDuring handling of the above exception, another exception occurred:\n",
      "\u001b[1;31mNameError\u001b[0m                                 Traceback (most recent call last)",
      "Cell \u001b[1;32mIn[153], line 71\u001b[0m\n\u001b[0;32m     69\u001b[0m     ROM_S\u001b[38;5;241m.\u001b[39mappend(ROM\u001b[38;5;241m.\u001b[39mtext)\n\u001b[0;32m     70\u001b[0m \u001b[38;5;28;01mexcept\u001b[39;00m:\n\u001b[1;32m---> 71\u001b[0m     ROM_S\u001b[38;5;241m.\u001b[39mappend(\u001b[38;5;124m'\u001b[39m\u001b[38;5;124m-\u001b[39m\u001b[38;5;124m'\u001b[39m)\n\u001b[0;32m     72\u001b[0m \u001b[38;5;28;01mtry\u001b[39;00m:\n\u001b[0;32m     73\u001b[0m     primary_camera\u001b[38;5;241m=\u001b[39mdriver\u001b[38;5;241m.\u001b[39mfind_element(By\u001b[38;5;241m.\u001b[39mXPATH,\u001b[38;5;124m'\u001b[39m\u001b[38;5;124m/html/body/div[1]/div/div[3]/div[1]/div[2]/div[7]/div/div/div[4]/div/div[2]/div[1]/div[5]/table/tbody/tr[1]/td[2]/ul/li\u001b[39m\u001b[38;5;124m'\u001b[39m)\n",
      "\u001b[1;31mNameError\u001b[0m: name 'ROM_S' is not defined"
     ]
    }
   ],
   "source": [
    "#3\n",
    "import selenium\n",
    "import pandas as pd\n",
    "from selenium import webdriver\n",
    "import warnings\n",
    "warnings.filterwarnings('ignore')\n",
    "from selenium.webdriver.common.by import By\n",
    "from selenium.webdriver.common.keys import Keys\n",
    "import time\n",
    "import requests\n",
    "\n",
    "driver = webdriver.Chrome()\n",
    "time.sleep(1)\n",
    "driver.get(\"https://www.flipkart.com/\")\n",
    "time.sleep(1)\n",
    "search=driver.find_element(By.XPATH,'//*[@id=\"container\"]/div/div[1]/div/div/div/div/div[1]/div/div[1]/div/div[1]/div[1]/header/div[1]/div[2]/form/div/div/input')\n",
    "search.send_keys(\"Oneplus Nord\")\n",
    "search.send_keys(Keys.ENTER)\n",
    "\n",
    "time.sleep(1)\n",
    "product_urls = []\n",
    "url=driver.find_elements(By.XPATH,'//a[@class=\"_1fQZEK\"]')\n",
    "for i in url:\n",
    "    product_urls.append(i.get_attribute(\"href\"))\n",
    "\n",
    "len(product_urls)\n",
    "brands=[]\n",
    "prices = []\n",
    "names = []\n",
    "colour = []\n",
    "RAM_S = []\n",
    "ROM_s = []\n",
    "camera = []\n",
    "sec_camera = []\n",
    "display=[]\n",
    "battery=[]\n",
    "\n",
    "\n",
    "for url in product_urls:\n",
    "    driver.get(url)\n",
    "    time.sleep(2)\n",
    "    \n",
    "    try:\n",
    "        brands.append('-')\n",
    "    except:\n",
    "        brands.append('-')\n",
    "    try:\n",
    "        price=driver.find_element(By.XPATH,'//div[@class=\"_30jeq3 _16Jk6d\"]')\n",
    "        prices.append(price.text)\n",
    "    except:\n",
    "        prices.append('-')\n",
    "    try:\n",
    "        smartphone_name=driver.find_element(By.XPATH,'//span[@class=\"B_NuCI\"]')\n",
    "        names.append(smartphone_name.text)\n",
    "    except:\n",
    "        names.append('-')\n",
    "    try:\n",
    "        colours=driver.find_element(By.XPATH,'/html/body/div[1]/div/div[3]/div[1]/div[2]/div[7]/div/div/div[4]/div/div[2]/div/div[1]/table/tbody/tr[4]/td[2]/ul/li')\n",
    "        colour.append(colours.text)\n",
    "    except:\n",
    "        colour.append('-')\n",
    "    try:\n",
    "        RAM=driver.find_element(By.XPATH,'/html/body/div[1]/div/div[3]/div[1]/div[2]/div[7]/div/div/div[4]/div/div[2]/div[1]/div[4]/table/tbody/tr[2]/td[2]/ul/li')\n",
    "        RAM_S.append(RAM.text)\n",
    "    except:\n",
    "        RAM_S.append('-')\n",
    "    try:\n",
    "        ROM=driver.find_element(By.XPATH,'/html/body/div[1]/div/div[3]/div[1]/div[2]/div[7]/div/div/div[4]/div/div[2]/div[1]/div[4]/table/tbody/tr[1]/td[2]/ul/li')\n",
    "        ROM_S.append(ROM.text)\n",
    "    except:\n",
    "        ROM_S.append('-')\n",
    "    try:\n",
    "        primary_camera=driver.find_element(By.XPATH,'/html/body/div[1]/div/div[3]/div[1]/div[2]/div[7]/div/div/div[4]/div/div[2]/div[1]/div[5]/table/tbody/tr[1]/td[2]/ul/li')\n",
    "        camera.append(primary_camera.text)\n",
    "    except:\n",
    "        camera.append('-')\n",
    "    try:\n",
    "        sec_camera.append('-')\n",
    "    except:\n",
    "        sec_camera.append('-')\n",
    "    try:\n",
    "        display_size=driver.find_element(By.XPATH,'//*[@id=\"container\"]/div/div[3]/div[1]/div[2]/div[7]/div/div/div[4]/div/div[2]/div[1]/div[2]/table/tbody/tr[1]/td[2]/ul/li')\n",
    "        display.append(display_size.text)\n",
    "    except:\n",
    "        display.append('-')\n",
    "    try:\n",
    "        battery_c=driver.find_element(By.XPATH,'//*[@id=\"container\"]/div/div[3]/div[1]/div[2]/div[7]/div/div/div[4]/div/div[2]/div[1]/div[7]/table/tbody/tr[1]/td[2]/ul/li')\n",
    "        battery.append(battery_c.text)\n",
    "    except:\n",
    "        battery.append('-')\n",
    "    \n",
    "        \n",
    "        \n",
    "print(names,brands,prices,colour,RAM_S,ROM_S,camera,sec_camera,display,battery)\n",
    "df=pd.DataFrame({'smartphone_name':names,'brand':brands,'Price':prices,\"colours\":colour,\"RAM\":RAM_S,\"ROM\":ROM_S,\"primary_camera\":camera,\"display_size\":display,\"battery\":battery})\n",
    "print(df)\n",
    "\n",
    "        \n",
    "        "
   ]
  },
  {
   "cell_type": "code",
   "execution_count": 162,
   "id": "d79506b0",
   "metadata": {},
   "outputs": [
    {
     "name": "stderr",
     "output_type": "stream",
     "text": [
      "The chromedriver version (122.0.6261.111) detected in PATH at C:\\Users\\Lenovo\\Desktop\\chromedriver.exe might not be compatible with the detected chrome version (123.0.6312.86); currently, chromedriver 123.0.6312.86 is recommended for chrome 123.*, so it is advised to delete the driver in PATH and retry\n"
     ]
    },
    {
     "name": "stdout",
     "output_type": "stream",
     "text": [
      "Latitude: 13.023381\n",
      "Longitude: 77.6405022\n"
     ]
    }
   ],
   "source": [
    "#5\n",
    "\n",
    "import selenium\n",
    "import pandas as pd\n",
    "from selenium import webdriver\n",
    "import warnings\n",
    "warnings.filterwarnings('ignore')\n",
    "from selenium.webdriver.common.by import By\n",
    "from selenium.webdriver.common.keys import Keys\n",
    "import time\n",
    "import requests\n",
    "import re\n",
    "\n",
    "driver = webdriver.Chrome()\n",
    "time.sleep(1)\n",
    "driver.get(\"https://maps.google.com\")\n",
    "\n",
    "time.sleep(1)\n",
    "    \n",
    "search=driver.find_element(By.XPATH,'//input[@class=\"searchboxinput xiQnY\"]')\n",
    "search.send_keys(\"Bangalore\")\n",
    "search.send_keys(Keys.ENTER)\n",
    "\n",
    "url = driver.current_url\n",
    "lat_lng = re.findall(r'@(-?\\d+\\.\\d+),(-?\\d+\\.\\d+)',url)\n",
    "print(\"Latitude:\", float(lat_lng[0][0]))\n",
    "print(\"Longitude:\", float(lat_lng[0][1]))\n"
   ]
  },
  {
   "cell_type": "code",
   "execution_count": 171,
   "id": "4b0abecb",
   "metadata": {},
   "outputs": [
    {
     "name": "stderr",
     "output_type": "stream",
     "text": [
      "The chromedriver version (122.0.6261.111) detected in PATH at C:\\Users\\Lenovo\\Desktop\\chromedriver.exe might not be compatible with the detected chrome version (123.0.6312.86); currently, chromedriver 123.0.6312.86 is recommended for chrome 123.*, so it is advised to delete the driver in PATH and retry\n"
     ]
    },
    {
     "name": "stdout",
     "output_type": "stream",
     "text": [
      "[<selenium.webdriver.remote.webelement.WebElement (session=\"f2c63f9493baa881d29aff60567ce4f5\", element=\"f.0A7C839FADE1D024613023A837CA130E.d.91A91806382E0C4826FFC86846BDA315.e.44\")>, <selenium.webdriver.remote.webelement.WebElement (session=\"f2c63f9493baa881d29aff60567ce4f5\", element=\"f.0A7C839FADE1D024613023A837CA130E.d.91A91806382E0C4826FFC86846BDA315.e.45\")>, <selenium.webdriver.remote.webelement.WebElement (session=\"f2c63f9493baa881d29aff60567ce4f5\", element=\"f.0A7C839FADE1D024613023A837CA130E.d.91A91806382E0C4826FFC86846BDA315.e.46\")>, <selenium.webdriver.remote.webelement.WebElement (session=\"f2c63f9493baa881d29aff60567ce4f5\", element=\"f.0A7C839FADE1D024613023A837CA130E.d.91A91806382E0C4826FFC86846BDA315.e.47\")>]\n",
      "                                              Laptop  \\\n",
      "0   HP OMEN 15-en1037AX 5th Gen Ryzen 7-5800H (2021)   \n",
      "1    Acer Nitro 5 AN515-45-R3TC Ryzen 5-5600H (2021)   \n",
      "2       Dell New G15-5515 D560730WIN9W Ryzen 7-5800H   \n",
      "3  Lenovo Ideapad Gaming 3 82K200X2IN Ryzen 7-580...   \n",
      "\n",
      "                                                Info  \n",
      "0  Operating System:\\nWindows 10 Home\\nDisplay Si...  \n",
      "1  Operating System:\\nWindows 10 Home\\nDisplay Si...  \n",
      "2  Operating System:\\nWindows 11 Home\\nDisplay Si...  \n",
      "3  Operating System:\\nWindows 11 Home\\nDisplay Si...  \n"
     ]
    }
   ],
   "source": [
    "#6\n",
    "import selenium\n",
    "import pandas as pd\n",
    "from selenium import webdriver\n",
    "import warnings\n",
    "warnings.filterwarnings('ignore')\n",
    "from selenium.webdriver.common.by import By\n",
    "from selenium.webdriver.common.keys import Keys\n",
    "import time\n",
    "import requests\n",
    "\n",
    "driver = webdriver.Chrome()\n",
    "time.sleep(1)\n",
    "driver.get(\"https://www.digit.in/top-products/best-amd-gaming-laptop-with-16gb-ram-4072.html\")\n",
    "time.sleep(1)\n",
    "\n",
    "urls = []\n",
    "os = []\n",
    "url=driver.find_elements(By.XPATH,'//div[@class=\"rh_gr_top_middle mb10 colored_rate_bar\"]')\n",
    "for i in url:\n",
    "    urls.append(i.text)\n",
    "    \n",
    "otherinfo = driver.find_elements(By.XPATH,'//div[@class=\"rh_gr_middle_desc\"]')\n",
    "for i in otherinfo:\n",
    "        os.append(i.text)\n",
    "df=pd.DataFrame({'Laptop':urls,'Info':os,})\n",
    "print(df)\n",
    "\n",
    "\n"
   ]
  },
  {
   "cell_type": "code",
   "execution_count": null,
   "id": "cb59eabc",
   "metadata": {},
   "outputs": [],
   "source": []
  }
 ],
 "metadata": {
  "kernelspec": {
   "display_name": "Python 3 (ipykernel)",
   "language": "python",
   "name": "python3"
  },
  "language_info": {
   "codemirror_mode": {
    "name": "ipython",
    "version": 3
   },
   "file_extension": ".py",
   "mimetype": "text/x-python",
   "name": "python",
   "nbconvert_exporter": "python",
   "pygments_lexer": "ipython3",
   "version": "3.11.3"
  }
 },
 "nbformat": 4,
 "nbformat_minor": 5
}
