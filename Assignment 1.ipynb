{
 "cells": [
  {
   "cell_type": "code",
   "execution_count": 11,
   "id": "aa6cbd1f",
   "metadata": {},
   "outputs": [
    {
     "name": "stdout",
     "output_type": "stream",
     "text": [
      "Python:Exercises::PHP:exercises:\n"
     ]
    }
   ],
   "source": [
    "#1\n",
    "#function of replscement starts here\n",
    "\n",
    "def replace_characters(sample):\n",
    "    replacements = [' ', ',', '.','%','-',']']\n",
    "    for char in replacements:\n",
    "        sample=sample.replace(char,':')\n",
    "    return sample\n",
    "\n",
    "#replacement function ends here\n",
    "\n",
    "sample = 'Python Exercises, PHP exercises.'\n",
    "result = replace_characters(sample)\n",
    "print(result)\n"
   ]
  },
  {
   "cell_type": "code",
   "execution_count": 2,
   "id": "237338d4",
   "metadata": {},
   "outputs": [
    {
     "name": "stdout",
     "output_type": "stream",
     "text": [
      "         SUMMARY\n",
      "0    hello world\n",
      "1     XXXXX test\n",
      "2  four five six\n"
     ]
    }
   ],
   "source": [
    "#2\n",
    "import pandas as pd\n",
    "import re\n",
    "data = {'SUMMARY': ['hello, world!', 'XXXXX test', '123four, five:; six...']}\n",
    "df = pd.DataFrame(data)\n",
    "def clean_text(text):\n",
    "    cleaned_text = re.sub(r'[^A-Za-z\\s]', '', text)\n",
    "    return cleaned_text\n",
    "df['SUMMARY'] = df['SUMMARY'].apply(clean_text)\n",
    "print(df)"
   ]
  },
  {
   "cell_type": "code",
   "execution_count": 4,
   "id": "c4deb822",
   "metadata": {},
   "outputs": [
    {
     "name": "stdout",
     "output_type": "stream",
     "text": [
      "Long words: ['Regular', 'expression', 'test', 'words', 'long', 'fggs', 'bghd', 'juyh']\n"
     ]
    }
   ],
   "source": [
    "#3\n",
    "import re\n",
    "\n",
    "#function tp mreturn the words thar having 4 charectors long\n",
    "def find_long_words(input_string):\n",
    "    pattern = re.compile(r'\\b\\w{4,}\\b')\n",
    "    long_words = pattern.findall(input_string)\n",
    "    return long_words\n",
    "\n",
    "\n",
    "input_text = \"Regular expression test 4 words long, - asd fggs bghd kj k klk juyh\"\n",
    "result = find_long_words(input_text)\n",
    "\n",
    "print(\"Long words:\", result)"
   ]
  },
  {
   "cell_type": "code",
   "execution_count": 14,
   "id": "a6f7545e",
   "metadata": {},
   "outputs": [
    {
     "name": "stdout",
     "output_type": "stream",
     "text": [
      "Long words: ['Regular', 'expression', 'test', 'words', 'long', 'asd', 'fggs', 'bghd', 'kj', 'klk', 'juyh']\n"
     ]
    }
   ],
   "source": [
    "#4\n",
    "import re\n",
    "\n",
    "#function tp mreturn the words thar having specified lenth of charectors\n",
    "def find_long_words(input_string, length):\n",
    "    pattern = re.compile(rf'\\b\\w{{{length},}}\\b')\n",
    "    long_words = pattern.findall(input_string)\n",
    "    return long_words\n",
    "\n",
    "\n",
    "input_text = \"Regular expression test dynmic words length, - asd fggs bghd kj k klk juyh\"\n",
    "result = find_long_words(input_text,2)\n",
    "\n",
    "print(\"Long words:\", result)"
   ]
  },
  {
   "cell_type": "code",
   "execution_count": 17,
   "id": "f3eda0db",
   "metadata": {},
   "outputs": [
    {
     "name": "stdout",
     "output_type": "stream",
     "text": [
      "example .com\n",
      "hr@fliprobo .com\n",
      "github .com\n",
      "Hello Data Science World\n",
      "Data Scientist\n"
     ]
    }
   ],
   "source": [
    "#5\n",
    "import re\n",
    "\n",
    "def remove_parentheses(strings):\n",
    "    pattern = re.compile(r'\\(|\\)')\n",
    "    result = [pattern.sub('', s) for s in strings]\n",
    "    return result\n",
    "\n",
    "sample_text = [\"example (.com)\", \"hr@fliprobo (.com)\", \"github (.com)\", \"Hello (Data Science World)\", \"Data (Scientist)\"]\n",
    "output = remove_parentheses(sample_text)\n",
    "\n",
    "for s in output:\n",
    "    print(s)"
   ]
  },
  {
   "cell_type": "code",
   "execution_count": 18,
   "id": "74735f90",
   "metadata": {},
   "outputs": [
    {
     "name": "stdout",
     "output_type": "stream",
     "text": [
      "example \n",
      "hr@fliprobo \n",
      "github \n",
      "Hello \n",
      "Data \n"
     ]
    }
   ],
   "source": [
    "#6\n",
    "import re\n",
    "\n",
    "def remove_parentheses(strings):\n",
    "    pattern = re.compile(r'\\([^)]*\\)')\n",
    "    result = [pattern.sub('', s) for s in strings]\n",
    "    return result\n",
    "\n",
    "sample_text = [\"example (.com)\", \"hr@fliprobo (.com)\", \"github (.com)\", \"Hello (Data Science World)\", \"Data (Scientist)\"]\n",
    "output = remove_parentheses(sample_text)\n",
    "\n",
    "for s in output:\n",
    "    print(s)"
   ]
  },
  {
   "cell_type": "code",
   "execution_count": 20,
   "id": "e0f00641",
   "metadata": {},
   "outputs": [
    {
     "name": "stdout",
     "output_type": "stream",
     "text": [
      "['Importance', 'Of', 'Regular', 'Expressions', 'In', 'Python']\n"
     ]
    }
   ],
   "source": [
    "#7\n",
    "import re\n",
    "\n",
    "sample_text = \"ImportanceOfRegularExpressionsInPython\"\n",
    "pattern = re.compile(r'[A-Z][a-z]*')\n",
    "result = pattern.findall(sample_text)\n",
    "print(result)"
   ]
  },
  {
   "cell_type": "code",
   "execution_count": 21,
   "id": "8e4d913f",
   "metadata": {},
   "outputs": [
    {
     "name": "stdout",
     "output_type": "stream",
     "text": [
      "RegularExpression 1IsAn 2ImportantTopic 3InPython\n"
     ]
    }
   ],
   "source": [
    "#8\n",
    "import re\n",
    "\n",
    "def insert_spaces_before_numbers(input_string):\n",
    "    pattern = re.compile(r'(?<=[a-zA-Z])(\\d)')\n",
    "    result = pattern.sub(r' \\1', input_string)\n",
    "    return result\n",
    "\n",
    "sample_text = \"RegularExpression1IsAn2ImportantTopic3InPython\"\n",
    "output = insert_spaces_before_numbers(sample_text)\n",
    "\n",
    "print(output)"
   ]
  },
  {
   "cell_type": "code",
   "execution_count": 22,
   "id": "f246a03e",
   "metadata": {},
   "outputs": [
    {
     "name": "stdout",
     "output_type": "stream",
     "text": [
      "Regular Expression 1 Is An 2 Important Topic 3 In Python\n"
     ]
    }
   ],
   "source": [
    "#9\n",
    "import re\n",
    "\n",
    "def insert_spaces(input_string):\n",
    "    pattern = re.compile(r'(?<=[a-zA-Z0-9])([A-Z\\d])')\n",
    "    result = pattern.sub(r' \\1', input_string)\n",
    "    return result\n",
    "\n",
    "sample_text = \"RegularExpression1IsAn2ImportantTopic3InPython\"\n",
    "output = insert_spaces(sample_text)\n",
    "\n",
    "print(output)\n"
   ]
  },
  {
   "cell_type": "code",
   "execution_count": 23,
   "id": "c92348c6",
   "metadata": {},
   "outputs": [],
   "source": [
    "#10 th question not understood or finding difficulty in doing this program\n"
   ]
  },
  {
   "cell_type": "code",
   "execution_count": 26,
   "id": "04a0e432",
   "metadata": {},
   "outputs": [
    {
     "name": "stdout",
     "output_type": "stream",
     "text": [
      "The string \"Valid String\" is not valid.\n"
     ]
    }
   ],
   "source": [
    "#11th \n",
    "\n",
    "import re\n",
    "\n",
    "def is_valid_string(input_string):\n",
    "    pattern = re.compile(r'^[a-zA-Z0-9_]+$')\n",
    "    match_result = pattern.match(input_string)\n",
    "    return bool(match_result)\n",
    "\n",
    "test_string = \"Valid String\"\n",
    "result = is_valid_string(test_string)\n",
    "\n",
    "if result:\n",
    "    print(f'The string \"{test_string}\" is valid.')\n",
    "else:\n",
    "    print(f'The string \"{test_string}\" is not valid.')"
   ]
  },
  {
   "cell_type": "code",
   "execution_count": 28,
   "id": "8bd1c85f",
   "metadata": {},
   "outputs": [
    {
     "name": "stdout",
     "output_type": "stream",
     "text": [
      "The string \"123ExampleString\" starts with the number 12.\n"
     ]
    }
   ],
   "source": [
    "#12\n",
    "import re\n",
    "\n",
    "def starts_with_number(input_string, specific_number):\n",
    "    pattern = re.compile(rf'^{re.escape(str(specific_number))}')\n",
    "    match_result = pattern.match(input_string)\n",
    "    return bool(match_result)\n",
    "\n",
    "test_string = \"123ExampleString\"\n",
    "specific_number = 12\n",
    "result = starts_with_number(test_string, specific_number)\n",
    "\n",
    "if result:\n",
    "    print(f'The string \"{test_string}\" starts with the number {specific_number}.')\n",
    "else:\n",
    "    print(f'The string \"{test_string}\" does not start with the number {specific_number}.')\n"
   ]
  },
  {
   "cell_type": "code",
   "execution_count": 29,
   "id": "17016703",
   "metadata": {},
   "outputs": [
    {
     "name": "stdout",
     "output_type": "stream",
     "text": [
      "Original IP Address: 192.001.002.003\n",
      "IP Address without Leading Zeros: 192.1.2.3\n"
     ]
    }
   ],
   "source": [
    "#13 \n",
    "\n",
    "import re\n",
    "\n",
    "def remove_leading_zeros(ip_address):\n",
    "    pattern = re.compile(r'\\b0+(\\d+)\\b')\n",
    "    result = pattern.sub(r'\\1', ip_address)\n",
    "    return result\n",
    "\n",
    "ip_address_with_zeros = \"192.001.002.003\"\n",
    "ip_address_without_zeros = remove_leading_zeros(ip_address_with_zeros)\n",
    "\n",
    "print(f'Original IP Address: {ip_address_with_zeros}')\n",
    "print(f'IP Address without Leading Zeros: {ip_address_without_zeros}')\n"
   ]
  },
  {
   "cell_type": "code",
   "execution_count": 37,
   "id": "07eba186",
   "metadata": {},
   "outputs": [
    {
     "name": "stdout",
     "output_type": "stream",
     "text": [
      "December 15 2023\n"
     ]
    }
   ],
   "source": [
    "#14\n",
    "import re\n",
    "\n",
    "pattern = re.compile(r'\\b(?:January|February|March|April|May|June|July|August|September|October|November|December)\\s+\\d{1,2}(?:st|nd|rd|th)?\\s+\\d{4}\\b')\n",
    "\n",
    "sample_text = 'On December 15 2023 that India was declared independent from British colonialism, and the reins of control were handed over to the leaders of the Country.'\n",
    "\n",
    "matches = pattern.findall(sample_text)\n",
    "\n",
    "for match in matches:\n",
    "    print(match)\n"
   ]
  },
  {
   "cell_type": "code",
   "execution_count": null,
   "id": "bdb4f278",
   "metadata": {},
   "outputs": [],
   "source": [
    "#15\n"
   ]
  },
  {
   "cell_type": "code",
   "execution_count": null,
   "id": "f7073839",
   "metadata": {},
   "outputs": [],
   "source": [
    "#16\n"
   ]
  },
  {
   "cell_type": "code",
   "execution_count": 39,
   "id": "c232a610",
   "metadata": {},
   "outputs": [
    {
     "name": "stdout",
     "output_type": "stream",
     "text": [
      "Sample Text: Python exercises, PHP exercises, C# exercises\n",
      "Pattern: exercises\n",
      "Found Substrings:\n",
      "- exercises\n",
      "- exercises\n",
      "- exercises\n"
     ]
    }
   ],
   "source": [
    "#17\n",
    "import re\n",
    "\n",
    "def find_substrings(sample_text, pattern):\n",
    "    matches = re.finditer(pattern, sample_text)\n",
    "    substrings = [match.group() for match in matches]\n",
    "    return substrings\n",
    "\n",
    "sample_text = 'Python exercises, PHP exercises, C# exercises'\n",
    "pattern = 'exercises'\n",
    "\n",
    "found_substrings = find_substrings(sample_text, pattern)\n",
    "\n",
    "print(f\"Sample Text: {sample_text}\")\n",
    "print(f\"Pattern: {pattern}\")\n",
    "print(\"Found Substrings:\")\n",
    "for substring in found_substrings:\n",
    "    print(f\"- {substring}\")\n"
   ]
  },
  {
   "cell_type": "code",
   "execution_count": null,
   "id": "b5ef7172",
   "metadata": {},
   "outputs": [],
   "source": [
    "#18\n"
   ]
  },
  {
   "cell_type": "code",
   "execution_count": 40,
   "id": "6083dc92",
   "metadata": {},
   "outputs": [
    {
     "name": "stdout",
     "output_type": "stream",
     "text": [
      "Input Date: 2022-02-04\n",
      "Output Date: 04-02-2022\n"
     ]
    }
   ],
   "source": [
    "#19\n",
    "\n",
    "from datetime import datetime\n",
    "\n",
    "def convert_date_format(input_date):\n",
    "    parsed_date = datetime.strptime(input_date, '%Y-%m-%d')\n",
    "    formatted_date = parsed_date.strftime('%d-%m-%Y')\n",
    "    return formatted_date\n",
    "\n",
    "input_date = '2022-02-04'\n",
    "output_date = convert_date_format(input_date)\n",
    "\n",
    "print(f\"Input Date: {input_date}\")\n",
    "print(f\"Output Date: {output_date}\")\n"
   ]
  },
  {
   "cell_type": "code",
   "execution_count": 52,
   "id": "7cb8c0a7",
   "metadata": {},
   "outputs": [],
   "source": [
    "#20\n"
   ]
  },
  {
   "cell_type": "code",
   "execution_count": 55,
   "id": "cdb1e039",
   "metadata": {},
   "outputs": [
    {
     "ename": "IndentationError",
     "evalue": "unindent does not match any outer indentation level (<tokenize>, line 6)",
     "output_type": "error",
     "traceback": [
      "\u001b[1;36m  File \u001b[1;32m<tokenize>:6\u001b[1;36m\u001b[0m\n\u001b[1;33m    matches = re.finditer(pattern, text)\u001b[0m\n\u001b[1;37m    ^\u001b[0m\n\u001b[1;31mIndentationError\u001b[0m\u001b[1;31m:\u001b[0m unindent does not match any outer indentation level\n"
     ]
    }
   ],
   "source": [
    "#21\n",
    "import re\n",
    "\n",
    "def separate_and_print_numbers(text):\n",
    "    pattern = r\"\\d+\"\n",
    "  matches = re.finditer(pattern, text)\n",
    "\n",
    "  for match in matches:\n",
    "    number = match.group()\n",
    "    start, end = match.start(), match.end()\n",
    "    print(f\"Number: {number}, Position: ({start}, {end})\")\n",
    "\n",
    "text = \"This string has 3 numbers: 123, 456, and 789.\"\n",
    "separate_and_print_numbers(text)\n"
   ]
  },
  {
   "cell_type": "code",
   "execution_count": 57,
   "id": "59e6c8ac",
   "metadata": {},
   "outputs": [
    {
     "name": "stdout",
     "output_type": "stream",
     "text": [
      "Maximum Numeric Value: 950\n"
     ]
    }
   ],
   "source": [
    "#22\n",
    "import re\n",
    "\n",
    "def extract_maximum_numeric_value(input_string):\n",
    "    pattern = re.compile(r'\\b\\d+\\b')\n",
    "    numeric_values = [int(match) for match in pattern.findall(input_string)]\n",
    "\n",
    "  \n",
    "    if numeric_values:\n",
    "        return max(numeric_values)\n",
    "    else:\n",
    "        return None\n",
    "\n",
    "\n",
    "sample_text = 'My marks in each semester are: 947, 896, 926, 524, 734, 950, 642'\n",
    "result = extract_maximum_numeric_value(sample_text)\n",
    "\n",
    "if result is not None:\n",
    "    print(f\"Maximum Numeric Value: {result}\")\n",
    "else:\n",
    "    print(\"No numeric values found in the string.\")\n"
   ]
  },
  {
   "cell_type": "code",
   "execution_count": 58,
   "id": "81d8a8e1",
   "metadata": {},
   "outputs": [
    {
     "name": "stdout",
     "output_type": "stream",
     "text": [
      "Output:  Regular Expression Is An Important Topic In Python\n"
     ]
    }
   ],
   "source": [
    "#23\n",
    "import re\n",
    "\n",
    "def insert_spaces_before_capitals(input_string):\n",
    "    pattern = re.compile(r'([a-z])([A-Z])')\n",
    "\n",
    "    result = pattern.sub(r'\\1 \\2', input_string)\n",
    "    result = re.sub(r'^([A-Z])', r' \\1', result)\n",
    "\n",
    "    return result\n",
    "\n",
    "sample_text = \"RegularExpressionIsAnImportantTopicInPython\"\n",
    "output = insert_spaces_before_capitals(sample_text)\n",
    "\n",
    "print(\"Output:\", output)\n"
   ]
  },
  {
   "cell_type": "code",
   "execution_count": 59,
   "id": "8498f761",
   "metadata": {},
   "outputs": [
    {
     "name": "stdout",
     "output_type": "stream",
     "text": [
      "Sequences: ['This', 'Sample', 'Text', 'Some', 'Uppercase', 'Words', 'Python', 'Regex']\n"
     ]
    }
   ],
   "source": [
    "#24\n",
    "import re\n",
    "\n",
    "def find_sequences(input_string):\n",
    "    pattern = re.compile(r'[A-Z][a-z]+')\n",
    "    sequences = pattern.findall(input_string)\n",
    "    return sequences\n",
    "\n",
    "sample_text = \"This is a Sample Text with Some Uppercase Words like Python, Regex, and HTML.\"\n",
    "result = find_sequences(sample_text)\n",
    "\n",
    "print(\"Sequences:\", result)\n",
    "\n"
   ]
  },
  {
   "cell_type": "code",
   "execution_count": 60,
   "id": "d39ae45c",
   "metadata": {},
   "outputs": [
    {
     "name": "stdout",
     "output_type": "stream",
     "text": [
      "Output: Hello hello world\n"
     ]
    }
   ],
   "source": [
    "#25\n",
    "import re\n",
    "\n",
    "def remove_continuous_duplicates(input_sentence):\n",
    "\n",
    "    pattern = re.compile(r'\\b(\\w+)(?:\\s+\\1)+\\b')\n",
    "    result = pattern.sub(r'\\1', input_sentence)\n",
    "\n",
    "    return result\n",
    "\n",
    "\n",
    "sample_text = \"Hello hello world world\"\n",
    "output = remove_continuous_duplicates(sample_text)\n",
    "\n",
    "print(\"Output:\", output)\n",
    "\n"
   ]
  },
  {
   "cell_type": "code",
   "execution_count": 61,
   "id": "2ed578c7",
   "metadata": {},
   "outputs": [
    {
     "name": "stdout",
     "output_type": "stream",
     "text": [
      "Test String 1: \"Hello123\" ends with alphanumeric character: True\n",
      "Test String 2: \"Python!\" ends with alphanumeric character: False\n"
     ]
    }
   ],
   "source": [
    "#26\n",
    "import re\n",
    "\n",
    "def ends_with_alphanumeric(input_string):\n",
    "    pattern = re.compile(r'\\w$')\n",
    "\n",
    "    match = pattern.search(input_string)\n",
    "\n",
    "    return bool(match)\n",
    "\n",
    "\n",
    "test_string1 = \"Hello123\"\n",
    "test_string2 = \"Python!\"\n",
    "\n",
    "result1 = ends_with_alphanumeric(test_string1)\n",
    "result2 = ends_with_alphanumeric(test_string2)\n",
    "\n",
    "print(f'Test String 1: \"{test_string1}\" ends with alphanumeric character: {result1}')\n",
    "print(f'Test String 2: \"{test_string2}\" ends with alphanumeric character: {result2}')\n",
    "\n"
   ]
  },
  {
   "cell_type": "code",
   "execution_count": 62,
   "id": "8b3c196c",
   "metadata": {},
   "outputs": [
    {
     "name": "stdout",
     "output_type": "stream",
     "text": [
      "Extracted Hashtags: ['#Doltiwal', '#xyzabc', '#Demonetization']\n"
     ]
    }
   ],
   "source": [
    "#27\n",
    "import re\n",
    "\n",
    "def extract_hashtags(input_text):\n",
    "    \n",
    "    pattern = re.compile(r'#\\w+')\n",
    "\n",
    "    hashtags = pattern.findall(input_text)\n",
    "\n",
    "    return hashtags\n",
    "\n",
    "\n",
    "sample_text = \"\"\"RT @kapil_kausik: #Doltiwal I mean #xyzabc is \"hurt\" by #Demonetization as the same has rendered USELESS <ed><U+00A0><U+00BD><ed><U+00B1><U+0089> \"acquired funds\" No wo\"\"\"\n",
    "result = extract_hashtags(sample_text)\n",
    "\n",
    "print(\"Extracted Hashtags:\", result)\n"
   ]
  },
  {
   "cell_type": "code",
   "execution_count": 63,
   "id": "b0ec8530",
   "metadata": {},
   "outputs": [
    {
     "name": "stdout",
     "output_type": "stream",
     "text": [
      "Output: @Jags123456 Bharat band on 28??<ed><ed>Those who  are protesting #demonetization  are all different party leaders\n"
     ]
    }
   ],
   "source": [
    "#28\n",
    "import re\n",
    "\n",
    "def remove_unicode_symbols(input_text):\n",
    "    pattern = re.compile(r'<U\\+[0-9A-Fa-f]+>')\n",
    "\n",
    "    result = pattern.sub('', input_text)\n",
    "\n",
    "    return result\n",
    "\n",
    "sample_text = \"@Jags123456 Bharat band on 28??<ed><U+00A0><U+00BD><ed><U+00B8><U+0082>Those who  are protesting #demonetization  are all different party leaders\"\n",
    "output = remove_unicode_symbols(sample_text)\n",
    "\n",
    "print(\"Output:\", output)\n",
    "\n"
   ]
  },
  {
   "cell_type": "code",
   "execution_count": 69,
   "id": "0ac8e012",
   "metadata": {
    "scrolled": true
   },
   "outputs": [
    {
     "ename": "FileNotFoundError",
     "evalue": "[Errno 2] No such file or directory: 'sample_text.txt'",
     "output_type": "error",
     "traceback": [
      "\u001b[1;31m---------------------------------------------------------------------------\u001b[0m",
      "\u001b[1;31mFileNotFoundError\u001b[0m                         Traceback (most recent call last)",
      "Cell \u001b[1;32mIn[69], line 15\u001b[0m\n\u001b[0;32m     12\u001b[0m     \u001b[38;5;28;01mreturn\u001b[39;00m dates\n\u001b[0;32m     14\u001b[0m file_path \u001b[38;5;241m=\u001b[39m \u001b[38;5;124m'\u001b[39m\u001b[38;5;124msample_text.txt\u001b[39m\u001b[38;5;124m'\u001b[39m\n\u001b[1;32m---> 15\u001b[0m result \u001b[38;5;241m=\u001b[39m extract_dates_from_file(file_path)\n\u001b[0;32m     17\u001b[0m \u001b[38;5;28mprint\u001b[39m(\u001b[38;5;124m\"\u001b[39m\u001b[38;5;124mExtracted Dates:\u001b[39m\u001b[38;5;124m\"\u001b[39m, result)\n",
      "Cell \u001b[1;32mIn[69], line 5\u001b[0m, in \u001b[0;36mextract_dates_from_file\u001b[1;34m(file_path)\u001b[0m\n\u001b[0;32m      4\u001b[0m \u001b[38;5;28;01mdef\u001b[39;00m \u001b[38;5;21mextract_dates_from_file\u001b[39m(file_path):\n\u001b[1;32m----> 5\u001b[0m     \u001b[38;5;28;01mwith\u001b[39;00m \u001b[38;5;28mopen\u001b[39m(file_path, \u001b[38;5;124m'\u001b[39m\u001b[38;5;124mr\u001b[39m\u001b[38;5;124m'\u001b[39m) \u001b[38;5;28;01mas\u001b[39;00m file:\n\u001b[0;32m      6\u001b[0m         text \u001b[38;5;241m=\u001b[39m file\u001b[38;5;241m.\u001b[39mread()\n\u001b[0;32m      8\u001b[0m     pattern \u001b[38;5;241m=\u001b[39m re\u001b[38;5;241m.\u001b[39mcompile(\u001b[38;5;124mr\u001b[39m\u001b[38;5;124m'\u001b[39m\u001b[38;5;124m\\\u001b[39m\u001b[38;5;124mb\u001b[39m\u001b[38;5;124m\\\u001b[39m\u001b[38;5;124md\u001b[39m\u001b[38;5;132;01m{2}\u001b[39;00m\u001b[38;5;124m-\u001b[39m\u001b[38;5;124m\\\u001b[39m\u001b[38;5;124md\u001b[39m\u001b[38;5;132;01m{2}\u001b[39;00m\u001b[38;5;124m-\u001b[39m\u001b[38;5;124m\\\u001b[39m\u001b[38;5;124md\u001b[39m\u001b[38;5;132;01m{4}\u001b[39;00m\u001b[38;5;124m\\\u001b[39m\u001b[38;5;124mb\u001b[39m\u001b[38;5;124m'\u001b[39m)\n",
      "File \u001b[1;32m~\\anaconda3\\Lib\\site-packages\\IPython\\core\\interactiveshell.py:284\u001b[0m, in \u001b[0;36m_modified_open\u001b[1;34m(file, *args, **kwargs)\u001b[0m\n\u001b[0;32m    277\u001b[0m \u001b[38;5;28;01mif\u001b[39;00m file \u001b[38;5;129;01min\u001b[39;00m {\u001b[38;5;241m0\u001b[39m, \u001b[38;5;241m1\u001b[39m, \u001b[38;5;241m2\u001b[39m}:\n\u001b[0;32m    278\u001b[0m     \u001b[38;5;28;01mraise\u001b[39;00m \u001b[38;5;167;01mValueError\u001b[39;00m(\n\u001b[0;32m    279\u001b[0m         \u001b[38;5;124mf\u001b[39m\u001b[38;5;124m\"\u001b[39m\u001b[38;5;124mIPython won\u001b[39m\u001b[38;5;124m'\u001b[39m\u001b[38;5;124mt let you open fd=\u001b[39m\u001b[38;5;132;01m{\u001b[39;00mfile\u001b[38;5;132;01m}\u001b[39;00m\u001b[38;5;124m by default \u001b[39m\u001b[38;5;124m\"\u001b[39m\n\u001b[0;32m    280\u001b[0m         \u001b[38;5;124m\"\u001b[39m\u001b[38;5;124mas it is likely to crash IPython. If you know what you are doing, \u001b[39m\u001b[38;5;124m\"\u001b[39m\n\u001b[0;32m    281\u001b[0m         \u001b[38;5;124m\"\u001b[39m\u001b[38;5;124myou can use builtins\u001b[39m\u001b[38;5;124m'\u001b[39m\u001b[38;5;124m open.\u001b[39m\u001b[38;5;124m\"\u001b[39m\n\u001b[0;32m    282\u001b[0m     )\n\u001b[1;32m--> 284\u001b[0m \u001b[38;5;28;01mreturn\u001b[39;00m io_open(file, \u001b[38;5;241m*\u001b[39margs, \u001b[38;5;241m*\u001b[39m\u001b[38;5;241m*\u001b[39mkwargs)\n",
      "\u001b[1;31mFileNotFoundError\u001b[0m: [Errno 2] No such file or directory: 'sample_text.txt'"
     ]
    }
   ],
   "source": [
    "#29\n",
    "import re\n",
    "\n",
    "def extract_dates_from_file(file_path):\n",
    "    with open(file_path, 'r') as file:\n",
    "        text = file.read()\n",
    "\n",
    "    pattern = re.compile(r'\\b\\d{2}-\\d{2}-\\d{4}\\b')\n",
    "\n",
    "    dates = pattern.findall(text)\n",
    "\n",
    "    return dates\n",
    "\n",
    "file_path = 'sample_text.txt'\n",
    "result = extract_dates_from_file(file_path)\n",
    "\n",
    "print(\"Extracted Dates:\", result)\n"
   ]
  },
  {
   "cell_type": "code",
   "execution_count": 70,
   "id": "958dffee",
   "metadata": {},
   "outputs": [
    {
     "name": "stdout",
     "output_type": "stream",
     "text": [
      "Output:  following example creates  ArrayList  a capacity   elements. 4 elements   added   ArrayList   ArrayList  trimmed accordingly.\n"
     ]
    }
   ],
   "source": [
    "#30\n",
    "import re\n",
    "\n",
    "def remove_words_of_length_between_2_and_4(input_string):\n",
    "    pattern = re.compile(r'\\b\\w{2,4}\\b')\n",
    "\n",
    "    result = pattern.sub('', input_string)\n",
    "\n",
    "    return result\n",
    "\n",
    "sample_text = \"The following example creates an ArrayList with a capacity of 50 elements. 4 elements are then added to the ArrayList and the ArrayList is trimmed accordingly.\"\n",
    "output = remove_words_of_length_between_2_and_4(sample_text)\n",
    "\n",
    "print(\"Output:\", output)\n"
   ]
  },
  {
   "cell_type": "code",
   "execution_count": null,
   "id": "bcad60c5",
   "metadata": {},
   "outputs": [],
   "source": []
  }
 ],
 "metadata": {
  "kernelspec": {
   "display_name": "Python 3 (ipykernel)",
   "language": "python",
   "name": "python3"
  },
  "language_info": {
   "codemirror_mode": {
    "name": "ipython",
    "version": 3
   },
   "file_extension": ".py",
   "mimetype": "text/x-python",
   "name": "python",
   "nbconvert_exporter": "python",
   "pygments_lexer": "ipython3",
   "version": "3.11.3"
  }
 },
 "nbformat": 4,
 "nbformat_minor": 5
}
